{
 "cells": [
  {
   "cell_type": "code",
   "execution_count": 1,
   "id": "e1d82cb3-5cde-4a4e-860f-6da8494f786f",
   "metadata": {},
   "outputs": [],
   "source": [
    "import pandas as pd\n",
    "import seaborn as sns\n",
    "import numpy as np\n",
    "import matplotlib.pyplot as plt\n",
    "import matplotlib\n",
    "from datetime import datetime\n",
    "from datetime import timedelta\n",
    "import calendar\n",
    "import glob\n",
    "from multiprocessing import Pool\n",
    "import json\n",
    "import collections\n",
    "from IPython.display import display\n",
    "import re\n",
    "import os\n",
    "import io\n",
    "import inspect\n",
    "import importlib\n",
    "import pickle\n",
    "import networkx as nx\n",
    "import folium\n",
    "from sklearn.feature_extraction.text import TfidfVectorizer\n",
    "from sklearn.metrics.pairwise import cosine_similarity\n",
    "from matplotlib.ticker import ScalarFormatter\n",
    "\n",
    "from dataclasses import dataclass\n",
    "\n",
    "matplotlib.style.use('ggplot')\n",
    "font = {'family': 'Noto Sans CJK JP'}\n",
    "matplotlib.rc('font', **font)\n",
    "# %config InlineBackend.figure_format = \"retina\"\n",
    "# %matplotlib inline\n",
    "fontsize = 20\n",
    "dpi = 400\n",
    "quality=100\n",
    "plt.rcParams[\"font.size\"] = fontsize\n",
    "\n",
    "pd.options.display.max_rows = 800\n",
    "pd.options.display.max_columns = 500\n",
    "pd.options.display.max_colwidth = 500\n",
    "pd.options.display.width = 500\n",
    "\n",
    "datadir = '/root/data'"
   ]
  },
  {
   "cell_type": "code",
   "execution_count": 2,
   "id": "f4d061fc-2c2d-4b30-b15c-4f4ec262dac9",
   "metadata": {},
   "outputs": [],
   "source": [
    "!ls /root/data/"
   ]
  },
  {
   "cell_type": "code",
   "execution_count": 3,
   "id": "9e3f70ac-81ea-43d4-89b3-0cda2aef750e",
   "metadata": {},
   "outputs": [],
   "source": [
    "import common  # common helper utils"
   ]
  },
  {
   "cell_type": "code",
   "execution_count": null,
   "id": "b1479eb8-927c-41aa-ac42-a2dd1c2ce8e0",
   "metadata": {},
   "outputs": [],
   "source": []
  }
 ],
 "metadata": {
  "kernelspec": {
   "display_name": "Python 3 (ipykernel)",
   "language": "python",
   "name": "python3"
  },
  "language_info": {
   "codemirror_mode": {
    "name": "ipython",
    "version": 3
   },
   "file_extension": ".py",
   "mimetype": "text/x-python",
   "name": "python",
   "nbconvert_exporter": "python",
   "pygments_lexer": "ipython3",
   "version": "3.11.11"
  }
 },
 "nbformat": 4,
 "nbformat_minor": 5
}
